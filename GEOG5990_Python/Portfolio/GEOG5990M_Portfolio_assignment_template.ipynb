{
  "cells": [
    {
      "cell_type": "markdown",
      "metadata": {
        "id": "view-in-github",
        "colab_type": "text"
      },
      "source": [
        "<a href=\"https://colab.research.google.com/github/LiHao990629/University-of-Leeds/blob/main/GEOG5990_Python/GEOG5990M_Portfolio_assignment_template.ipynb\" target=\"_parent\"><img src=\"https://colab.research.google.com/assets/colab-badge.svg\" alt=\"Open In Colab\"/></a>"
      ]
    },
    {
      "cell_type": "markdown",
      "id": "b6c38652-6c0d-4b61-b9a9-f6ea14b1d3e7",
      "metadata": {
        "id": "b6c38652-6c0d-4b61-b9a9-f6ea14b1d3e7"
      },
      "source": [
        "# GEOG5990M Portfolio assignment  (TEMPLATE)\n",
        "\n",
        "Student ID number: 201775657\n",
        "\n"
      ]
    },
    {
      "cell_type": "markdown",
      "id": "114c3993-22e1-40e3-b5c5-42d0195b6280",
      "metadata": {
        "id": "114c3993-22e1-40e3-b5c5-42d0195b6280"
      },
      "source": [
        "## Block One Submission\n",
        "Using data introduced in the course create a visualisation showing the association between two variables. Using skills developed in the practical exercises take any steps required to clean or pre-process the data.  It is expected that you wills change the default appearance of the markers and include an appropriate title and axis labels. Further marks will be awarded for appropriate use of colour pallets, inclusion of additional categorical variables in the visualisation and other steps taken to ensure effective data visualisation.\n",
        "\n",
        "Ensure all the code has detialed comments.\n",
        "\n",
        "Write a brief paragraph in markdown (max. 300 words) detailing the visualisation choices made given the types of data you have chosen."
      ]
    },
    {
      "cell_type": "code",
      "execution_count": 1,
      "id": "97164579-e372-447c-adee-f7dfd40359b4",
      "metadata": {
        "id": "97164579-e372-447c-adee-f7dfd40359b4"
      },
      "outputs": [],
      "source": [
        "# import required packages"
      ]
    },
    {
      "cell_type": "code",
      "execution_count": null,
      "id": "f6efcf9a-a48e-4e39-8aa0-c29a853971fe",
      "metadata": {
        "id": "f6efcf9a-a48e-4e39-8aa0-c29a853971fe"
      },
      "outputs": [],
      "source": [
        "# Data-preprocessing"
      ]
    },
    {
      "cell_type": "code",
      "execution_count": null,
      "id": "15a393cb-8742-4e67-9758-b3ab0684dc50",
      "metadata": {
        "id": "15a393cb-8742-4e67-9758-b3ab0684dc50"
      },
      "outputs": [],
      "source": [
        "# Data visualisation"
      ]
    },
    {
      "cell_type": "markdown",
      "id": "f6d7e339-ae17-4d7f-9baf-9e472cfaa3e4",
      "metadata": {
        "id": "f6d7e339-ae17-4d7f-9baf-9e472cfaa3e4"
      },
      "source": [
        "### Block One Submission\n",
        "Edit this celll to include a brief paragraph (max. 300 words) detailing the visualisation choices made given the types of data you have chosen.\n",
        "\n",
        "\n",
        "\n",
        "\n",
        "\n",
        "\n",
        "\n",
        "\n",
        "\n",
        "\n",
        "\n",
        "    "
      ]
    },
    {
      "cell_type": "markdown",
      "id": "21e6cb5e-fb5f-45b0-aa50-edc17c566c70",
      "metadata": {
        "id": "21e6cb5e-fb5f-45b0-aa50-edc17c566c70"
      },
      "source": [
        "## Block Two Submission:\n",
        "\n",
        "Using the course notebooks and lectures as a guide create a static visualisation showing the spatial distribution of a variable of your choice. The type of spatial visualisation chosen should be suitable for the data chosen and appropriate data cleaning and pre-processing steps undertaken. Using skills demonstrated in the python notebooks change the default appearance of the visualisation of choice. Include an appropriate title and legend labels. Further marks will be awarded for appropriate use of colour pallets and other customisations to aid interpretation and improve accessibility. Write a brief paragraph in markdown (max 300 words) detailing the visual design choices made."
      ]
    },
    {
      "cell_type": "code",
      "execution_count": null,
      "id": "77554197-aa45-4fd1-b8f0-eb397ed429ef",
      "metadata": {
        "id": "77554197-aa45-4fd1-b8f0-eb397ed429ef"
      },
      "outputs": [],
      "source": [
        "# import any further required packages"
      ]
    },
    {
      "cell_type": "code",
      "execution_count": null,
      "id": "9bafa31e-4436-48d4-af56-18e326e71cbd",
      "metadata": {
        "id": "9bafa31e-4436-48d4-af56-18e326e71cbd"
      },
      "outputs": [],
      "source": [
        "# Data-preprocessing"
      ]
    },
    {
      "cell_type": "code",
      "execution_count": null,
      "id": "fc4fb576-4390-4366-b4bf-9a2f60bba71b",
      "metadata": {
        "id": "fc4fb576-4390-4366-b4bf-9a2f60bba71b"
      },
      "outputs": [],
      "source": [
        "# Data Visualisation"
      ]
    },
    {
      "cell_type": "markdown",
      "id": "5e7f93b1-85e8-44f4-b505-f7f40652f377",
      "metadata": {
        "id": "5e7f93b1-85e8-44f4-b505-f7f40652f377"
      },
      "source": [
        "### Block Two Submission\n",
        "Edit this celll to include a brief paragraph (max. 300 words) detailing the spatial data visualisation choices made given the types of data you have chosen.\n",
        "\n",
        "\n",
        "\n",
        "\n",
        "\n"
      ]
    },
    {
      "cell_type": "code",
      "execution_count": null,
      "id": "5f0704da-b159-4033-8b5e-a596b92ffeaa",
      "metadata": {
        "id": "5f0704da-b159-4033-8b5e-a596b92ffeaa"
      },
      "outputs": [],
      "source": []
    }
  ],
  "metadata": {
    "kernelspec": {
      "display_name": "Python 3 (ipykernel)",
      "language": "python",
      "name": "python3"
    },
    "language_info": {
      "codemirror_mode": {
        "name": "ipython",
        "version": 3
      },
      "file_extension": ".py",
      "mimetype": "text/x-python",
      "name": "python",
      "nbconvert_exporter": "python",
      "pygments_lexer": "ipython3",
      "version": "3.10.12"
    },
    "colab": {
      "provenance": [],
      "include_colab_link": true
    }
  },
  "nbformat": 4,
  "nbformat_minor": 5
}
